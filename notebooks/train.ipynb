{
 "cells": [
  {
   "cell_type": "code",
   "execution_count": null,
   "id": "68a86461-4bde-486e-be90-e2ab0fc02405",
   "metadata": {},
   "outputs": [],
   "source": [
    "import os\n",
    "\n",
    "from skimage import io\n",
    "import pylab as plt\n",
    "import wandb\n",
    "import numpy as np\n",
    "import time\n",
    "\n",
    "from ml_utils.model.faster_rcnn import load_model_for_training\n",
    "from ml_utils.train.dataloader_bbox import get_data_loaders\n",
    "from ml_utils.train.train_bbox import train\n",
    "from ml_utils.utils.visualize import draw_bbox"
   ]
  },
  {
   "cell_type": "markdown",
   "id": "1fa370d1-cc69-429b-8eec-1b6eeede2c7e",
   "metadata": {},
   "source": [
    "### Specify parameters"
   ]
  },
  {
   "cell_type": "code",
   "execution_count": null,
   "id": "16b3b57f-89a8-4985-8239-1a932c0ca0d1",
   "metadata": {},
   "outputs": [],
   "source": [
    "input_dir = '../example_data/img'\n",
    "bbox_fn = '../example_data/bboxes.csv'\n",
    "model_dir = '../outputs/model'\n",
    "\n",
    "project_name = 'test_project'\n",
    "\n",
    "batch_size = 2\n",
    "val_fraction = 0.2\n",
    "num_workers = 2\n",
    "\n",
    "config = dict(num_epochs=20, \n",
    "              lr=0.01, \n",
    "              momentum=0.9, \n",
    "              weight_decay=0.0005,\n",
    "              step_size=3, \n",
    "              gamma=0.1,\n",
    "              detection_thr=0.1,\n",
    "              overlap_thr=0.1,\n",
    "              dist_thr=10)\n",
    "\n",
    "log_progress = True"
   ]
  },
  {
   "cell_type": "markdown",
   "id": "d55c538a-e03c-477b-9763-e23e7c9ed42c",
   "metadata": {},
   "source": [
    "### Show example data"
   ]
  },
  {
   "cell_type": "code",
   "execution_count": null,
   "id": "4b0c83df-ea8a-4d20-9d8b-269c5aedbd16",
   "metadata": {},
   "outputs": [],
   "source": [
    "tr_dl, val_dl = get_data_loaders(bbox_fn,\n",
    "                                 input_dir=input_dir,\n",
    "                                 val_fraction=val_fraction, \n",
    "                                 batch_size=batch_size, \n",
    "                                 num_workers=num_workers)\n",
    "\n",
    "n = 0\n",
    "for images, targets, image_ids in tr_dl:\n",
    "    for i in range(len(images)):\n",
    "        boxes = targets[i]['boxes'].cpu().numpy().astype(np.int32)\n",
    "        sample = images[i].permute(1, 2, 0).cpu().numpy()\n",
    "\n",
    "        for box in boxes:\n",
    "            sample = draw_bbox(sample, [box[1], box[0], box[3], box[2]], color=(1, 0, 0))\n",
    "\n",
    "        io.imshow(sample)\n",
    "        plt.show()\n",
    "        n += 1\n",
    "        if n > 3:\n",
    "            break"
   ]
  },
  {
   "cell_type": "markdown",
   "id": "ba36b9a1-ec49-46e8-b469-a5f42fb87c6a",
   "metadata": {},
   "source": [
    "### Load data and model"
   ]
  },
  {
   "cell_type": "code",
   "execution_count": null,
   "id": "fe2635a2-9cf8-436c-9477-1d9c6f74373a",
   "metadata": {},
   "outputs": [],
   "source": [
    "tr_dl, val_dl = get_data_loaders(bbox_fn,\n",
    "                                 input_dir=input_dir,\n",
    "                                 val_fraction=val_fraction, \n",
    "                                 batch_size=batch_size, \n",
    "                                 num_workers=num_workers)\n",
    "model = load_model_for_training()"
   ]
  },
  {
   "cell_type": "markdown",
   "id": "737bc4f3-53a4-4404-8df5-3fd92a7395fb",
   "metadata": {},
   "source": [
    "### Train the model"
   ]
  },
  {
   "cell_type": "code",
   "execution_count": null,
   "id": "9d466d4b-7e07-4e39-ac02-9d11a176df55",
   "metadata": {
    "scrolled": true,
    "tags": []
   },
   "outputs": [],
   "source": [
    "%%time\n",
    "\n",
    "if log_progress is False:\n",
    "    os.environ['WANDB_MODE'] = 'offline'\n",
    "    \n",
    "wandb.init(project=project_name, config=config)\n",
    "\n",
    "train(model, tr_dl, val_dl, config=config, log_progress=log_progress, model_dir=model_dir)\n",
    "\n",
    "wandb.finish()"
   ]
  },
  {
   "cell_type": "code",
   "execution_count": null,
   "id": "ceccc227-96f3-4a32-b965-802e310ead55",
   "metadata": {},
   "outputs": [],
   "source": []
  }
 ],
 "metadata": {
  "kernelspec": {
   "display_name": "Python [conda env:quamd]",
   "language": "python",
   "name": "conda-env-quamd-py"
  },
  "language_info": {
   "codemirror_mode": {
    "name": "ipython",
    "version": 3
   },
   "file_extension": ".py",
   "mimetype": "text/x-python",
   "name": "python",
   "nbconvert_exporter": "python",
   "pygments_lexer": "ipython3",
   "version": "3.9.0"
  }
 },
 "nbformat": 4,
 "nbformat_minor": 5
}
