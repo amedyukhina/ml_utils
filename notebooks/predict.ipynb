{
 "cells": [
  {
   "cell_type": "code",
   "execution_count": null,
   "id": "68a86461-4bde-486e-be90-e2ab0fc02405",
   "metadata": {},
   "outputs": [],
   "source": [
    "import os\n",
    "import pandas as pd\n",
    "from skimage import io\n",
    "import pylab as plt\n",
    "import numpy as np\n",
    "import time\n",
    "from ml_utils.utils.visualize import  overlay_bboxes_batch\n",
    "from ml_utils.predict.predict_bbox import detect_bboxes\n",
    "from ml_utils.utils.utils import join_bboxes\n",
    "from am_utils.utils import walk_dir"
   ]
  },
  {
   "cell_type": "markdown",
   "id": "1fa370d1-cc69-429b-8eec-1b6eeede2c7e",
   "metadata": {},
   "source": [
    "### Specify parameters"
   ]
  },
  {
   "cell_type": "code",
   "execution_count": null,
   "id": "16b3b57f-89a8-4985-8239-1a932c0ca0d1",
   "metadata": {},
   "outputs": [],
   "source": [
    "input_dir = '../example_data/img'\n",
    "bbox_fn = '../example_data/bboxes.csv'\n",
    "model_dir = '../outputs/model/'\n",
    "wn = 'weights_best.pth'\n",
    "output_dir = '../outputs/outlines/'\n",
    "\n",
    "batch_size = 2\n",
    "overlap_threshold=0.1\n",
    "detection_threshold=0.1\n",
    "\n",
    "figsize = 4"
   ]
  },
  {
   "cell_type": "code",
   "execution_count": null,
   "id": "ef6580ba-e0d2-4678-a9ea-3bac4ecdedf0",
   "metadata": {},
   "outputs": [],
   "source": [
    "model_name = os.listdir(model_dir)[0]\n",
    "model_name"
   ]
  },
  {
   "cell_type": "markdown",
   "id": "d55c538a-e03c-477b-9763-e23e7c9ed42c",
   "metadata": {},
   "source": [
    "### Predict "
   ]
  },
  {
   "cell_type": "code",
   "execution_count": null,
   "id": "4b0c83df-ea8a-4d20-9d8b-269c5aedbd16",
   "metadata": {},
   "outputs": [],
   "source": [
    "df = detect_bboxes(input_dir=input_dir,\n",
    "                   model_fn=os.path.join(model_dir, model_name, wn),\n",
    "                   batch_size=batch_size, \n",
    "                   overlap_threshold=overlap_threshold, \n",
    "                   detection_threshold=detection_threshold)"
   ]
  },
  {
   "cell_type": "markdown",
   "id": "ba36b9a1-ec49-46e8-b469-a5f42fb87c6a",
   "metadata": {},
   "source": [
    "### Overlay bboxes"
   ]
  },
  {
   "cell_type": "code",
   "execution_count": null,
   "id": "fe2635a2-9cf8-436c-9477-1d9c6f74373a",
   "metadata": {},
   "outputs": [],
   "source": [
    "df_gt = pd.read_csv(bbox_fn)\n",
    "df = join_bboxes(df_gt, df, cl_name='class')\n",
    "overlay_bboxes_batch(df=df, input_dir=input_dir,\n",
    "                     output_dir=os.path.join(output_dir, model_name),\n",
    "                     palette=[(0, 255, 0), (255, 0, 0)])\n"
   ]
  },
  {
   "cell_type": "markdown",
   "id": "737bc4f3-53a4-4404-8df5-3fd92a7395fb",
   "metadata": {},
   "source": [
    "### Display example data"
   ]
  },
  {
   "cell_type": "code",
   "execution_count": null,
   "id": "9d466d4b-7e07-4e39-ac02-9d11a176df55",
   "metadata": {
    "tags": []
   },
   "outputs": [],
   "source": [
    "files = walk_dir(os.path.join(output_dir, model_name))\n",
    "for i in range(min(5, len(files))):\n",
    "    plt.figure(figsize=(figsize, figsize))\n",
    "    io.imshow(io.imread(files[i]))"
   ]
  },
  {
   "cell_type": "code",
   "execution_count": null,
   "id": "d7177dcb-a4c2-4f8c-a742-1a090c5813c8",
   "metadata": {},
   "outputs": [],
   "source": []
  }
 ],
 "metadata": {
  "kernelspec": {
   "display_name": "Python [conda env:quamd]",
   "language": "python",
   "name": "conda-env-quamd-py"
  },
  "language_info": {
   "codemirror_mode": {
    "name": "ipython",
    "version": 3
   },
   "file_extension": ".py",
   "mimetype": "text/x-python",
   "name": "python",
   "nbconvert_exporter": "python",
   "pygments_lexer": "ipython3",
   "version": "3.9.0"
  }
 },
 "nbformat": 4,
 "nbformat_minor": 5
}
