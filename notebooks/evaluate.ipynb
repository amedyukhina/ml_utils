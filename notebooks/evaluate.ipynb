{
 "cells": [
  {
   "cell_type": "code",
   "execution_count": null,
   "id": "68a86461-4bde-486e-be90-e2ab0fc02405",
   "metadata": {},
   "outputs": [],
   "source": [
    "import os\n",
    "import pandas as pd\n",
    "from skimage import io\n",
    "import pylab as plt\n",
    "import numpy as np\n",
    "import time\n",
    "from ml_utils.utils.visualize import  overlay_bboxes_batch\n",
    "from ml_utils.predict.eval_bbox import evaluate_accuracy\n",
    "from ml_utils.predict.predict_bbox import detect_bboxes\n",
    "from ml_utils.utils.utils import join_bboxes"
   ]
  },
  {
   "cell_type": "markdown",
   "id": "1fa370d1-cc69-429b-8eec-1b6eeede2c7e",
   "metadata": {},
   "source": [
    "### Specify parameters"
   ]
  },
  {
   "cell_type": "code",
   "execution_count": null,
   "id": "16b3b57f-89a8-4985-8239-1a932c0ca0d1",
   "metadata": {},
   "outputs": [],
   "source": [
    "input_dir = '../example_data/img'\n",
    "gt_fn = '../example_data/bboxes.csv'\n",
    "model_dir = '../outputs/model/'\n",
    "wn = 'weights_best.pth'\n",
    "outlines_dir = '../outputs/outlines_combined/'\n",
    "\n",
    "detection_threshold = 0.1\n",
    "overlap_threshold = 0.1\n",
    "dist_thr = 10\n",
    "batch_size = 2"
   ]
  },
  {
   "cell_type": "code",
   "execution_count": null,
   "id": "ef6580ba-e0d2-4678-a9ea-3bac4ecdedf0",
   "metadata": {},
   "outputs": [],
   "source": [
    "model_name = os.listdir(model_dir)[0]\n",
    "model_name"
   ]
  },
  {
   "cell_type": "markdown",
   "id": "7cdd5d74-f5bc-410f-a5f9-58f6e7fa9ef7",
   "metadata": {},
   "source": [
    "### Predict "
   ]
  },
  {
   "cell_type": "code",
   "execution_count": null,
   "id": "a0cf2044-be0e-44bb-9946-093daf75025e",
   "metadata": {},
   "outputs": [],
   "source": [
    "df = detect_bboxes(input_dir=input_dir,\n",
    "                   model_fn=os.path.join(model_dir, model_name, wn),\n",
    "                   batch_size=batch_size, \n",
    "                   overlap_threshold=overlap_threshold, \n",
    "                   detection_threshold=detection_threshold)"
   ]
  },
  {
   "cell_type": "markdown",
   "id": "f2dd3a53-342a-4fb2-a658-01598d42e4e3",
   "metadata": {},
   "source": [
    "### Overlay bboxes"
   ]
  },
  {
   "cell_type": "code",
   "execution_count": null,
   "id": "5af1adaa-634f-4d8d-92c7-7a57013087f6",
   "metadata": {},
   "outputs": [],
   "source": [
    "df_gt = pd.read_csv(gt_fn)\n",
    "df_joined = join_bboxes(df_gt, df, cl_name='class')\n",
    "overlay_bboxes_batch(df=df_joined, input_dir=input_dir,\n",
    "                     output_dir=os.path.join(outlines_dir, model_name),\n",
    "                     palette=[(0, 255, 0), (255, 0, 0)])\n"
   ]
  },
  {
   "cell_type": "markdown",
   "id": "d55c538a-e03c-477b-9763-e23e7c9ed42c",
   "metadata": {},
   "source": [
    "### Evaluate accuracy "
   ]
  },
  {
   "cell_type": "code",
   "execution_count": null,
   "id": "4b0c83df-ea8a-4d20-9d8b-269c5aedbd16",
   "metadata": {},
   "outputs": [],
   "source": [
    "stats, accuracy_df = evaluate_accuracy(df, df_gt, dist_thr, return_full=True)\n",
    "    \n",
    "stats"
   ]
  },
  {
   "cell_type": "code",
   "execution_count": null,
   "id": "6c90e5b0-3070-40b4-ad0c-b36c7fb13bdd",
   "metadata": {},
   "outputs": [],
   "source": [
    "accuracy_df"
   ]
  },
  {
   "cell_type": "code",
   "execution_count": null,
   "id": "78c53b63-dbe6-45fd-89b8-4694b21a8172",
   "metadata": {},
   "outputs": [],
   "source": []
  },
  {
   "cell_type": "code",
   "execution_count": null,
   "id": "0ed90588-c896-43d5-b1f1-1a46cf27a735",
   "metadata": {},
   "outputs": [],
   "source": []
  }
 ],
 "metadata": {
  "kernelspec": {
   "display_name": "Python [conda env:quamd]",
   "language": "python",
   "name": "conda-env-quamd-py"
  },
  "language_info": {
   "codemirror_mode": {
    "name": "ipython",
    "version": 3
   },
   "file_extension": ".py",
   "mimetype": "text/x-python",
   "name": "python",
   "nbconvert_exporter": "python",
   "pygments_lexer": "ipython3",
   "version": "3.9.0"
  }
 },
 "nbformat": 4,
 "nbformat_minor": 5
}
